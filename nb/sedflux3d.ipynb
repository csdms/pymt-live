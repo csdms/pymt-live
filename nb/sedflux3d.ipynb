{
 "cells": [
  {
   "cell_type": "markdown",
   "metadata": {},
   "source": [
    "## Sedflux3D\n",
    "* Link to this notebook: https://github.com/csdms/pymt-live/blob/master/nb/sedflux3d.ipynb\n",
    "* Install command: `$ conda install notebook pymt_sedflux`\n",
    "\n"
   ]
  },
  {
   "cell_type": "markdown",
   "metadata": {},
   "source": [
    "Import the `Sedflux3D` component from `pymt`. All of the components available to `pymt` are located in `pymt.models`. Here I've renamed the component to be `Model` to show that you could run these same commands with other models as well. For instance, you could instead import `Child` with `from pymt.models import Child as Model` and repeat this exercise with Child instead."
   ]
  },
  {
   "cell_type": "code",
   "execution_count": 1,
   "metadata": {},
   "outputs": [],
   "source": [
    "# Some magic to make plots appear within the notebook\n",
    "%matplotlib inline\n",
    "\n",
    "import numpy as np # In case we need to use numpy"
   ]
  },
  {
   "cell_type": "code",
   "execution_count": 2,
   "metadata": {},
   "outputs": [
    {
     "name": "stderr",
     "output_type": "stream",
     "text": [
      "\u001b[33;01m➡ models: Avulsion, Plume, Sedflux3D, Subside, FrostNumber, Ku, ExponentialWeatherer, Flexure, FlowAccumulator, FlowDirectorD8, FlowDirectorDINF, FlowDirectorSteepest, FlowRouter, LinearDiffuser, OverlandFlow, SoilMoisture, StreamPowerEroder, TransportLengthHillslopeDiffuser, Vegetation, Hydrotrend, Child, Cem, Waves\u001b[39;49;00m\n"
     ]
    }
   ],
   "source": [
    "import pymt.models"
   ]
  },
  {
   "cell_type": "markdown",
   "metadata": {},
   "source": [
    "Instantiate the model. If you wanted, you could have multiple instances of the same model - each with their own state. A PyMT component is instantiate without any arguments.\n",
    "\n",
    "Note that if you get an error that looks like,\n",
    "\n",
    "    AttributeError: module 'pymt.models' has no attribute 'Sedflux3D'\n",
    "\n",
    "it probably means that you have not installed the *sedflux* pymt component. You can install *sedflux* with *conda*,\n",
    "\n",
    "    $ conda install pymt_sedflux -c conda-forge\n",
    "\n",
    "(unless you're on Windows 😞)."
   ]
  },
  {
   "cell_type": "code",
   "execution_count": 3,
   "metadata": {},
   "outputs": [],
   "source": [
    "model = pymt.models.Sedflux3D()"
   ]
  },
  {
   "cell_type": "markdown",
   "metadata": {},
   "source": [
    "PyMT adds a docstring to the model. It is important to us that credit it given where credit is due. We want to make it clear that when we include a component in our framework the component is not ours but belong to the model's author. To that end, the model documentation includes a list of model authors, DOIs, as well as full citations to use if someone uses the model. In addition, to keep models from being black boxes, and because they are all open source, we provide links to source code. "
   ]
  },
  {
   "cell_type": "code",
   "execution_count": 4,
   "metadata": {},
   "outputs": [],
   "source": [
    "# help(model)"
   ]
  },
  {
   "cell_type": "markdown",
   "metadata": {},
   "source": [
    "The following code is generic for all `pymt` components - not just `Sedflux3D`. First we instantiate the component and then call its `setup` method to create a model simulation with the necessary input files (note that this is ***not*** a BMI method but something added by PyMT). `setup` takes an optional argument that gives a path to a folder that will contain the necessary input files (if not provided, a temporary folder will be used). `setup` returns the name of the config file and the path to the folder containing it (we'll use this information later when we run `initialize`)."
   ]
  },
  {
   "cell_type": "code",
   "execution_count": 5,
   "metadata": {},
   "outputs": [],
   "source": [
    "config_file, initdir = model.setup('_model', run_duration=3650000.)"
   ]
  },
  {
   "cell_type": "markdown",
   "metadata": {},
   "source": [
    "If we look inside the `_model` folder, we can see all of the necessary sedflux input files ready to run."
   ]
  },
  {
   "cell_type": "code",
   "execution_count": 6,
   "metadata": {},
   "outputs": [
    {
     "name": "stdout",
     "output_type": "stream",
     "text": [
      "sedflux.info              sedflux_3d_init.kvf       sedflux_3d_sea_level.csv\r\n",
      "sedflux_3d_argv.txt       sedflux_3d_process.kvf    sedflux_3d_sediment.kvf\r\n",
      "sedflux_3d_bathy.csv      sedflux_3d_river.kvf\r\n"
     ]
    }
   ],
   "source": [
    "ls _model"
   ]
  },
  {
   "cell_type": "markdown",
   "metadata": {},
   "source": [
    "The `initialize` method reads all of the input files and gets the model ready to update through time."
   ]
  },
  {
   "cell_type": "code",
   "execution_count": 7,
   "metadata": {},
   "outputs": [],
   "source": [
    "model.initialize(config_file, dir=initdir)"
   ]
  },
  {
   "cell_type": "code",
   "execution_count": 8,
   "metadata": {},
   "outputs": [
    {
     "data": {
      "text/plain": [
       "array([ 0.01])"
      ]
     },
     "execution_count": 8,
     "metadata": {},
     "output_type": "execute_result"
    }
   ],
   "source": [
    "model.set_value(\"channel_exit_water_flow__speed\", 1.2)\n",
    "model.set_value(\"channel_exit_x-section__mean_of_width\", 400.)\n",
    "model.set_value(\"channel_exit_x-section__mean_of_depth\", 4.)\n",
    "model.set_value(\"channel_exit_water_sediment~suspended__mass_concentration\", .01)"
   ]
  },
  {
   "cell_type": "markdown",
   "metadata": {},
   "source": [
    "Here we update the model for 10 time steps, printing the model time after each step."
   ]
  },
  {
   "cell_type": "code",
   "execution_count": 9,
   "metadata": {},
   "outputs": [
    {
     "name": "stdout",
     "output_type": "stream",
     "text": [
      "365.00000000036493\n",
      "730.0000000010949\n",
      "1095.00000000219\n",
      "1460.00000000365\n",
      "1825.000000005475\n",
      "2190.000000007665\n",
      "2555.00000001022\n",
      "2920.00000001314\n",
      "3285.0000000164246\n",
      "3650.0000000200744\n"
     ]
    }
   ],
   "source": [
    "for t in range(10):\n",
    "    model.update()\n",
    "    print(model.time)"
   ]
  },
  {
   "cell_type": "markdown",
   "metadata": {},
   "source": [
    "From the output it appears that sedflux is operating on a 1 year time step and is using units of *days*. We can double check that assumption."
   ]
  },
  {
   "cell_type": "code",
   "execution_count": 10,
   "metadata": {
    "scrolled": true
   },
   "outputs": [
    {
     "data": {
      "text/plain": [
       "'d'"
      ]
     },
     "execution_count": 10,
     "metadata": {},
     "output_type": "execute_result"
    }
   ],
   "source": [
    "model.time_units"
   ]
  },
  {
   "cell_type": "markdown",
   "metadata": {},
   "source": [
    "Yep, *days*. And the time step..."
   ]
  },
  {
   "cell_type": "code",
   "execution_count": 11,
   "metadata": {},
   "outputs": [
    {
     "data": {
      "text/plain": [
       "365.0"
      ]
     },
     "execution_count": 11,
     "metadata": {},
     "output_type": "execute_result"
    }
   ],
   "source": [
    "model.time_step"
   ]
  },
  {
   "cell_type": "markdown",
   "metadata": {},
   "source": [
    "The `update_until` method gives us more control by allowing us to update to a particular time. Using the `units` keyword allows us to specify the \"until\" time. Here we update the model until 20 years."
   ]
  },
  {
   "cell_type": "code",
   "execution_count": 12,
   "metadata": {},
   "outputs": [
    {
     "data": {
      "text/plain": [
       "73048.43975632306"
      ]
     },
     "execution_count": 12,
     "metadata": {},
     "output_type": "execute_result"
    }
   ],
   "source": [
    "model.update_until(200., units='year')\n",
    "model.time"
   ]
  },
  {
   "cell_type": "code",
   "execution_count": 13,
   "metadata": {},
   "outputs": [
    {
     "name": "stdout",
     "output_type": "stream",
     "text": [
      "200.00000000020003\n"
     ]
    }
   ],
   "source": [
    "model.time_units = 'year'\n",
    "print(model.time)"
   ]
  },
  {
   "cell_type": "markdown",
   "metadata": {},
   "source": [
    "We've covered how to setup and run a model, now we'll have a look at how to get data out of the model. This is done with the `get_value` method but first we need to look at what variables the model provides. This is held as a tuple of variable names and accessed through the `output_var_names` attribute."
   ]
  },
  {
   "cell_type": "code",
   "execution_count": 14,
   "metadata": {},
   "outputs": [
    {
     "data": {
      "text/plain": [
       "('land-or-seabed_sediment_grain__mean_diameter',\n",
       " 'sea_water__depth',\n",
       " 'sea_bottom_sediment__bulk_mass-per-volume_density',\n",
       " 'sea_bottom_surface__elevation',\n",
       " 'sea_bottom_sediment_grain__mean_diameter',\n",
       " 'bedrock_surface__elevation',\n",
       " 'land-or-seabed_sediment__permeability',\n",
       " 'sediment_grain__mean_diameter',\n",
       " 'land-or-seabed_sediment_surface__y_derivative_of_elevation',\n",
       " 'sea_bottom_sediment__porosity',\n",
       " 'land-or-seabed_sediment_silt__volume_fraction',\n",
       " 'land-or-seabed_sediment_surface__elevation',\n",
       " 'land-or-seabed_sediment_clay__volume_fraction',\n",
       " 'sea_bottom_sediment_mud__volume_fraction',\n",
       " 'land-or-seabed_sediment_sand__volume_fraction',\n",
       " 'land-or-seabed_sediment__mean_of_deposition_age',\n",
       " 'sediment__mean_of_deposition_age',\n",
       " 'sea_bottom_surface__y_derivative_of_elevation',\n",
       " 'sea_bottom_sediment_clay__volume_fraction',\n",
       " 'land-or-seabed_sediment__porosity',\n",
       " 'land-or-seabed_sediment__bulk_mass-per-volume_density',\n",
       " 'land-or-seabed_sediment_mud__volume_fraction',\n",
       " 'land-or-seabed_sediment_surface__x_derivative_of_elevation',\n",
       " 'sediment__porosity',\n",
       " 'sediment__bulk_mass-per-volume_density',\n",
       " 'sea_bottom_sediment__permeability',\n",
       " 'sediment__permeability',\n",
       " 'sea_bottom_surface__x_derivative_of_elevation',\n",
       " 'sea_bottom_sediment_sand__volume_fraction',\n",
       " 'sea_bottom_sediment__mean_of_deposition_age',\n",
       " 'sea_bottom_sediment_silt__volume_fraction',\n",
       " 'channel_exit_water_flow__speed',\n",
       " 'channel_exit_x-section__mean_of_width',\n",
       " 'channel_exit_x-section__mean_of_depth',\n",
       " 'channel_exit_water_sediment~suspended__mass_concentration')"
      ]
     },
     "execution_count": 14,
     "metadata": {},
     "output_type": "execute_result"
    }
   ],
   "source": [
    "model.output_var_names"
   ]
  },
  {
   "cell_type": "code",
   "execution_count": 15,
   "metadata": {},
   "outputs": [
    {
     "data": {
      "text/plain": [
       "('bedrock_surface__elevation',\n",
       " 'channel_water_sediment~bedload__mass_flow_rate',\n",
       " 'sea_bottom_sediment__increment_of_thickness',\n",
       " 'bedrock_surface__increment_of_elevation',\n",
       " 'channel_exit_water__volume_flow_rate',\n",
       " 'channel_exit_water_flow__speed',\n",
       " 'channel_exit_x-section__mean_of_width',\n",
       " 'channel_exit_x-section__mean_of_depth',\n",
       " 'channel_exit_water_sediment~suspended__mass_concentration')"
      ]
     },
     "execution_count": 15,
     "metadata": {},
     "output_type": "execute_result"
    }
   ],
   "source": [
    "model.input_var_names"
   ]
  },
  {
   "cell_type": "markdown",
   "metadata": {},
   "source": [
    "So to get the values of, say, water depth,"
   ]
  },
  {
   "cell_type": "code",
   "execution_count": 16,
   "metadata": {},
   "outputs": [
    {
     "data": {
      "text/plain": [
       "array([ 50.,  50.,  50., ..., -30., -30., -30.])"
      ]
     },
     "execution_count": 16,
     "metadata": {},
     "output_type": "execute_result"
    }
   ],
   "source": [
    "model.get_value('sea_water__depth')"
   ]
  },
  {
   "cell_type": "markdown",
   "metadata": {},
   "source": [
    "As with previous methods, you can use the `units` keyword to specify units. Here we get water depths in units of parsecs."
   ]
  },
  {
   "cell_type": "code",
   "execution_count": 17,
   "metadata": {},
   "outputs": [
    {
     "data": {
      "text/plain": [
       "array([  1.62038942e-15,   1.62038942e-15,   1.62038942e-15, ...,\n",
       "        -9.72233655e-16,  -9.72233655e-16,  -9.72233655e-16])"
      ]
     },
     "execution_count": 17,
     "metadata": {},
     "output_type": "execute_result"
    }
   ],
   "source": [
    "model.get_value('sea_water__depth', units='parsec')"
   ]
  },
  {
   "cell_type": "code",
   "execution_count": 18,
   "metadata": {},
   "outputs": [
    {
     "data": {
      "image/png": "[encoded data removed]",
      "text/plain": [
       "<Figure size 432x288 with 2 Axes>"
      ]
     },
     "metadata": {
      "needs_background": "light"
     },
     "output_type": "display_data"
    }
   ],
   "source": [
    "model.quick_plot('sea_water__depth', vmin=-200, vmax=200, cmap='BrBG_r')"
   ]
  },
  {
   "cell_type": "code",
   "execution_count": 20,
   "metadata": {},
   "outputs": [
    {
     "data": {
      "image/png": "[encoded data removed]",
      "text/plain": [
       "<Figure size 432x288 with 2 Axes>"
      ]
     },
     "metadata": {
      "needs_background": "light"
     },
     "output_type": "display_data"
    }
   ],
   "source": [
    "model.set_value(\"channel_exit_water_sediment~suspended__mass_concentration\", .5)\n",
    "for t in range(10):\n",
    "    model.update()\n",
    "model.quick_plot('sea_water__depth', vmin=-200, vmax=200, cmap='BrBG_r')"
   ]
  },
  {
   "cell_type": "code",
   "execution_count": null,
   "metadata": {},
   "outputs": [],
   "source": []
  }
 ],
 "metadata": {
  "kernelspec": {
   "display_name": "Python 3",
   "language": "python",
   "name": "python3"
  },
  "language_info": {
   "codemirror_mode": {
    "name": "ipython",
    "version": 3
   },
   "file_extension": ".py",
   "mimetype": "text/x-python",
   "name": "python",
   "nbconvert_exporter": "python",
   "pygments_lexer": "ipython3",
   "version": "3.7.3"
  }
 },
 "nbformat": 4,
 "nbformat_minor": 2
}
