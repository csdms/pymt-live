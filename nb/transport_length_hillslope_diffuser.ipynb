{
 "cells": [
  {
   "cell_type": "markdown",
   "metadata": {},
   "source": [
    "# The transport-length hillslope diffuser"
   ]
  },
  {
   "cell_type": "markdown",
   "metadata": {},
   "source": [
    "# The basics:\n",
    "\n",
    "This component uses an approach similar to Davy and Lague (2009)'s equation for fluvial erosion and transport, and applies it to hillslope diffusion.\n",
    "Formulation and implementation were inspired by Carretier et al (2016), see this paper and references therein for justification.\n",
    "\n",
    "## Theory\n",
    "\n",
    "The elevation z of a point of the landscape (grid node) changes according to:\n",
    "\n",
    "\\begin{equation}\n",
    " \\frac{\\partial z}{\\partial t} = -\\epsilon + D + U  \\tag{1}\\label{eq:1}\n",
    "\\end{equation}\n",
    "\n",
    "\n",
    "and we define:\n",
    "\\begin{equation}\n",
    " D = \\frac{q_s}{L}  \\tag{2}\\label{eq:2}\n",
    "\\end{equation}\n",
    "\n",
    "\n",
    "\n",
    "where $\\epsilon$ is the local erosion rate [*L/T*], *D* the local deposition rate [*L/T*], *U* the uplift (or subsidence) rate [*L/T*], $q_s$ the incoming sediment flux per unit width [*L$^2$/T*] and *L* is the **transport length**.\n",
    "\n",
    "We specify the erosion rate $\\epsilon$ and the transport length *L*:\n",
    "\n",
    "\\begin{equation}\n",
    " \\epsilon = \\kappa S  \\tag{3}\\label{eq:3}\n",
    "\\end{equation}\n",
    "\n",
    "\n",
    "\n",
    "\\begin{equation}\n",
    " L = \\frac{dx}{1-({S}/{S_c})^2}  \\tag{4}\\label{eq:4}\n",
    "\\end{equation}\n",
    "\n",
    "where $\\kappa$ [*L/T*] is an erodibility coefficient, $S$ is the local slope [*L/L*] and $S_c$ is the critical slope [*L/L*]. \n",
    "\n",
    "Thus, the elevation variation results from the difference between local rates of detachment and deposition. \n",
    "\n",
    "The detachment rate is proportional to the local gradient. However, the deposition rate (*$q_s$/L*) depends on the local slope and the critical slope:\n",
    "- when $S \\ll S_c$, most of the sediment entering a node is deposited there, this is the pure diffusion case. In this case, the sediment flux $q_s$ does not include sediment eroded from above and is thus \"local\".\n",
    "- when $S \\approx S_c$, *L* becomes infinity and there is no redeposition on the node, the sediments are transferred further downstream.  This behaviour corresponds to mass wasting, grains can travel a long distance before being deposited. In that case, the flux $q_s$ is \"non-local\" as it incorporates sediments that have both been detached  locally and transited from upslope.\n",
    "- for an intermediate $S$, there is a prgogressive transition between pure creep and \"balistic\" transport of the material. This is consistent with experiments (Roering et al., 2001; Gabet and Mendoza, 2012).\n",
    "\n",
    "## Contrast with the non-linear diffusion model\n",
    "\n",
    "Previous models typically use a \"non-linear\" diffusion model proposed by different authors (e.g. Andrews and Hanks, 1985; Hanks, 1999; Roering et al., 1999) and supported by $^{10}$Be-derived erosion rates (e.g. Binnie et al., 2007) or experiments (Roering et al., 2001). It is usually presented in the followin form:\n",
    "\n",
    "$ $\n",
    "\n",
    "\\begin{equation} \n",
    " \\frac{\\partial z}{\\partial t} = \\frac{\\partial q_s}{\\partial x}  \\tag{5}\\label{eq:5}\n",
    "\\end{equation}\n",
    "\n",
    "$ $\n",
    "\\begin{equation}\n",
    " q_s = \\frac{\\kappa' S}{1-({S}/{S_c})^2}   \\tag{6}\\label{eq:6}\n",
    "\\end{equation}\n",
    "\n",
    "where $\\kappa'$ [*L$^2$/T*] is a diffusion coefficient.\n",
    "\n",
    "This description is thus based on the definition of a flux of transported sediment parallel to the slope:\n",
    "- when the slope is small, this flux refers to diffusion processes such as aoil creep, rain splash or diffuse runoff\n",
    "- when the slope gets closer to critical slope, the flux increases dramatically, simulating on average the cumulative effect of mass wasting events.\n",
    "\n",
    "\n",
    "Despite these conceptual differences, Eq ($\\ref{eq:3}$) and ($\\ref{eq:4}$) predict similar topographic evolution to the 'non-linear' diffusion equations for $\\kappa' = \\kappa dx$, as shown in the following example.\n"
   ]
  },
  {
   "cell_type": "markdown",
   "metadata": {},
   "source": [
    "# Example 1:"
   ]
  },
  {
   "cell_type": "markdown",
   "metadata": {},
   "source": [
    "First, we import what we'll need:"
   ]
  },
  {
   "cell_type": "code",
   "execution_count": 1,
   "metadata": {},
   "outputs": [
    {
     "name": "stderr",
     "output_type": "stream",
     "text": [
      "\u001b[33;01m➡ models: Avulsion, Plume, Sedflux3D, Subside, FrostNumber, Ku, ExponentialWeatherer, Flexure, FlowAccumulator, FlowDirectorD8, FlowDirectorDINF, FlowDirectorSteepest, FlowRouter, LinearDiffuser, OverlandFlow, SoilMoisture, StreamPowerEroder, TransportLengthHillslopeDiffuser, Vegetation, Hydrotrend, Child, Cem, Waves\u001b[39;49;00m\n"
     ]
    }
   ],
   "source": [
    "%matplotlib inline\n",
    "\n",
    "import numpy as np\n",
    "from matplotlib.pyplot import figure, show, plot, xlabel, ylabel, title\n",
    "import pymt.models"
   ]
  },
  {
   "cell_type": "markdown",
   "metadata": {},
   "source": [
    "Set the initial and run conditions:"
   ]
  },
  {
   "cell_type": "code",
   "execution_count": 2,
   "metadata": {},
   "outputs": [],
   "source": [
    "total_t = 2000000.  # total run time (yr)\n",
    "dt = 1000.  # time step (yr)\n",
    "nt = int(total_t // dt)  # number of time steps\n",
    "uplift_rate = 0.0001  # uplift rate (m/yr)\n",
    "\n",
    "kappa = 0.001  # erodibility (m/yr)\n",
    "Sc = 0.6  # critical slope"
   ]
  },
  {
   "cell_type": "markdown",
   "metadata": {},
   "source": [
    "Instantiate the components:\n",
    "The hillslope diffusion component must be used together with a flow router/director that provides the steepest downstream slope for each node, with a D4 method (creates the field *topographic__steepest_slope* at nodes)."
   ]
  },
  {
   "cell_type": "code",
   "execution_count": 3,
   "metadata": {},
   "outputs": [],
   "source": [
    "fdir = pymt.models.FlowDirectorSteepest()\n",
    "tl_diff = pymt.models.TransportLengthHillslopeDiffuser()"
   ]
  },
  {
   "cell_type": "code",
   "execution_count": 4,
   "metadata": {},
   "outputs": [],
   "source": [
    "config_file, config_dir = fdir.setup(\n",
    "    grid_row_spacing=10.,\n",
    "    grid_column_spacing=10.,\n",
    "    grid_rows=100,\n",
    "    grid_columns=100,\n",
    "    clock_start=0.0,\n",
    "    clock_stop=total_t,\n",
    "    clock_step=dt,\n",
    ")\n",
    "fdir.initialize(config_file, config_dir)"
   ]
  },
  {
   "cell_type": "code",
   "execution_count": 5,
   "metadata": {},
   "outputs": [],
   "source": [
    "config_file, config_dir = tl_diff.setup(\n",
    "    grid_row_spacing=10.,\n",
    "    grid_column_spacing=10.,\n",
    "    grid_rows=100,\n",
    "    grid_columns=100,\n",
    "\n",
    "    clock_start=0.0,\n",
    "    clock_stop=total_t,\n",
    "    clock_step=dt,\n",
    "\n",
    "    erodibility=kappa,\n",
    "    slope_crit=Sc,\n",
    ")\n",
    "tl_diff.initialize(config_file, config_dir)"
   ]
  },
  {
   "cell_type": "markdown",
   "metadata": {},
   "source": [
    "Set the boundary conditions. The **FlowDirector** component uses a variable called *boundary_condition_flag* to set its boundary conditions. A value of 1, means the boundary is open and sediment is free to leave the grid. A value of 4 means the nodes are closed and so there is no flux through them. The **TransportLengthHillslopeDiffuser** uses these boundary conditions as input so we'll set them both here."
   ]
  },
  {
   "cell_type": "code",
   "execution_count": 6,
   "metadata": {},
   "outputs": [],
   "source": [
    "status = fdir.get_value(\"boundary_condition_flag\").reshape((100, 100))\n",
    "status[:, (0, -1)] = 1 # E and W boundaries are open \n",
    "status[(0, -1), :] = 4 # N and S boundaries are closed"
   ]
  },
  {
   "cell_type": "code",
   "execution_count": 7,
   "metadata": {},
   "outputs": [],
   "source": [
    "fdir.set_value(\"boundary_condition_flag\", status)\n",
    "tl_diff.set_value(\"boundary_condition_flag\", status)"
   ]
  },
  {
   "cell_type": "markdown",
   "metadata": {},
   "source": [
    "Start with an initial surface that's just random noise."
   ]
  },
  {
   "cell_type": "code",
   "execution_count": 8,
   "metadata": {},
   "outputs": [],
   "source": [
    "z = np.random.rand(100 * 100)"
   ]
  },
  {
   "cell_type": "code",
   "execution_count": 9,
   "metadata": {},
   "outputs": [],
   "source": [
    "fdir.set_value(\"topographic__elevation\", z)"
   ]
  },
  {
   "cell_type": "markdown",
   "metadata": {},
   "source": [
    "Get the input values for **TransportLengthHillslopeDiffuser** from the flow director."
   ]
  },
  {
   "cell_type": "code",
   "execution_count": 10,
   "metadata": {},
   "outputs": [],
   "source": [
    "tl_diff.set_value(\"topographic__elevation\", z)\n",
    "tl_diff.set_value(\"flow__receiver_node\", fdir.get_value(\"flow__receiver_node\"))\n",
    "tl_diff.set_value(\"topographic__steepest_slope\", fdir.get_value(\"topographic__steepest_slope\"))"
   ]
  },
  {
   "cell_type": "markdown",
   "metadata": {},
   "source": [
    "Run the components for 2 Myr and trace an East-West cross-section of the topography every 100 kyr:"
   ]
  },
  {
   "cell_type": "code",
   "execution_count": 11,
   "metadata": {},
   "outputs": [
    {
     "name": "stdout",
     "output_type": "stream",
     "text": [
      "0.0\n",
      "100000.0\n",
      "200000.0\n",
      "300000.0\n",
      "400000.0\n",
      "500000.0\n",
      "600000.0\n",
      "700000.0\n",
      "800000.0\n",
      "900000.0\n",
      "1000000.0\n",
      "1100000.0\n",
      "1200000.0\n",
      "1300000.0\n",
      "1400000.0\n",
      "1500000.0\n",
      "1600000.0\n",
      "1700000.0\n",
      "1800000.0\n",
      "1900000.0\n"
     ]
    },
    {
     "data": {
      "image/png": "[encoded data removed]",
      "text/plain": [
       "<Figure size 432x288 with 1 Axes>"
      ]
     },
     "metadata": {
      "needs_background": "light"
     },
     "output_type": "display_data"
    }
   ],
   "source": [
    "for t in range(nt - 1):\n",
    "    fdir.update()\n",
    "    \n",
    "    tl_diff.set_value(\"topographic__elevation\", z)\n",
    "    tl_diff.set_value(\n",
    "        \"flow__receiver_node\", fdir.get_value(\"flow__receiver_node\")\n",
    "    )\n",
    "    tl_diff.set_value(\n",
    "        \"topographic__steepest_slope\",\n",
    "        fdir.get_value(\"topographic__steepest_slope\"),\n",
    "    )\n",
    "\n",
    "    tl_diff.update()\n",
    "    \n",
    "    z = tl_diff.get_value(\"topographic__elevation\").reshape((100, 100))\n",
    "    z[1:-1, 1:-1] += uplift_rate * dt  # add the uplift\n",
    "    \n",
    "    fdir.set_value(\"topographic__elevation\", z)\n",
    "    \n",
    "    # add some output to let us see we aren't hanging:\n",
    "    if t % 100 == 0:\n",
    "        print(t * dt)\n",
    "        \n",
    "        # plot east-west cross-section of topography:\n",
    "        x_plot = range(0, 1000, 10)\n",
    "        z_plot = z[1, :]\n",
    "        figure('cross-section')\n",
    "        plot(x_plot, z_plot)"
   ]
  },
  {
   "cell_type": "markdown",
   "metadata": {},
   "source": [
    "And plot final topography:"
   ]
  },
  {
   "cell_type": "code",
   "execution_count": 12,
   "metadata": {},
   "outputs": [
    {
     "data": {
      "image/png": "[encoded data removed]",
      "text/plain": [
       "<Figure size 432x288 with 2 Axes>"
      ]
     },
     "metadata": {
      "needs_background": "light"
     },
     "output_type": "display_data"
    }
   ],
   "source": [
    "tl_diff.quick_plot(\"topographic__elevation\")"
   ]
  },
  {
   "cell_type": "markdown",
   "metadata": {},
   "source": [
    "# Example 2\n",
    "\n",
    "In this example, we show that when the slope is steep ($S \\geq S_c$), the transport-length hillsope diffusion simulates mass wasting, with long transport distances.\n",
    "\n",
    "First, we create a grid: the western half of the grid is flat at 0m of elevation, the eastern half is a 45-degree slope."
   ]
  },
  {
   "cell_type": "code",
   "execution_count": 13,
   "metadata": {},
   "outputs": [],
   "source": [
    "fdir = pymt.models.FlowDirectorSteepest()\n",
    "tl_diff = pymt.models.TransportLengthHillslopeDiffuser()"
   ]
  },
  {
   "cell_type": "code",
   "execution_count": 14,
   "metadata": {},
   "outputs": [],
   "source": [
    "total_t = 1000000.  # total run time (yr)\n",
    "dt = 1000.  # time step (yr)\n",
    "nt = int(total_t // dt)  # number of time steps\n",
    "\n",
    "kappa = 0.001  # erodibility (m / yr)\n",
    "Sc = 0.6  # critical slope"
   ]
  },
  {
   "cell_type": "code",
   "execution_count": 15,
   "metadata": {},
   "outputs": [],
   "source": [
    "grid_params = {\n",
    "    \"grid_row_spacing\": 10.,\n",
    "    \"grid_column_spacing\": 10.,\n",
    "    \"grid_rows\": 100,\n",
    "    \"grid_columns\": 100,\n",
    "}\n",
    "clock_params = {\n",
    "    \"clock_start\": 0.0,\n",
    "    \"clock_stop\": total_t,\n",
    "    \"clock_step\": dt,\n",
    "}"
   ]
  },
  {
   "cell_type": "code",
   "execution_count": 16,
   "metadata": {},
   "outputs": [],
   "source": [
    "config_file, config_dir = fdir.setup(**grid_params, **clock_params)\n",
    "fdir.initialize(config_file, config_dir)"
   ]
  },
  {
   "cell_type": "code",
   "execution_count": 17,
   "metadata": {},
   "outputs": [],
   "source": [
    "config_file, config_dir = tl_diff.setup(\n",
    "    **grid_params,\n",
    "    **clock_params,\n",
    "    erodibility=kappa,\n",
    "    slope_crit=Sc,\n",
    ")\n",
    "tl_diff.initialize(config_file, config_dir)"
   ]
  },
  {
   "cell_type": "markdown",
   "metadata": {},
   "source": [
    "As before, set the boundary conditions for both components."
   ]
  },
  {
   "cell_type": "code",
   "execution_count": 18,
   "metadata": {},
   "outputs": [],
   "source": [
    "status = fdir.get_value(\"boundary_condition_flag\").reshape((100, 100))\n",
    "status[:, (0, -1)] = 1 # E and W boundaries are open \n",
    "status[(0, -1), :] = 4 # N and S boundaries are closed"
   ]
  },
  {
   "cell_type": "code",
   "execution_count": 19,
   "metadata": {},
   "outputs": [],
   "source": [
    "fdir.set_value(\"boundary_condition_flag\", status)\n",
    "tl_diff.set_value(\"boundary_condition_flag\", status)"
   ]
  },
  {
   "cell_type": "markdown",
   "metadata": {},
   "source": [
    "In this example, we'll use a different initial surface: a dipping plane."
   ]
  },
  {
   "cell_type": "code",
   "execution_count": 20,
   "metadata": {},
   "outputs": [
    {
     "ename": "AttributeError",
     "evalue": "'FlowDirectorSteepest' object has no attribute 'grid_size'",
     "output_type": "error",
     "traceback": [
      "\u001b[0;31m---------------------------------------------------------------------------\u001b[0m",
      "\u001b[0;31mAttributeError\u001b[0m                            Traceback (most recent call last)",
      "\u001b[0;32m<ipython-input-20-e77791786c10>\u001b[0m in \u001b[0;36m<module>\u001b[0;34m\u001b[0m\n\u001b[1;32m      1\u001b[0m \u001b[0mgrid\u001b[0m \u001b[0;34m=\u001b[0m \u001b[0mfdir\u001b[0m\u001b[0;34m.\u001b[0m\u001b[0mvar_grid\u001b[0m\u001b[0;34m(\u001b[0m\u001b[0;34m\"topographic__elevation\"\u001b[0m\u001b[0;34m)\u001b[0m\u001b[0;34m\u001b[0m\u001b[0;34m\u001b[0m\u001b[0m\n\u001b[0;32m----> 2\u001b[0;31m \u001b[0mn_vals\u001b[0m \u001b[0;34m=\u001b[0m \u001b[0mfdir\u001b[0m\u001b[0;34m.\u001b[0m\u001b[0mgrid_size\u001b[0m\u001b[0;34m(\u001b[0m\u001b[0mgrid\u001b[0m\u001b[0;34m)\u001b[0m\u001b[0;34m\u001b[0m\u001b[0;34m\u001b[0m\u001b[0m\n\u001b[0m\u001b[1;32m      3\u001b[0m \u001b[0mx\u001b[0m\u001b[0;34m,\u001b[0m \u001b[0my\u001b[0m \u001b[0;34m=\u001b[0m \u001b[0mfdir\u001b[0m\u001b[0;34m.\u001b[0m\u001b[0mgrid\u001b[0m\u001b[0;34m[\u001b[0m\u001b[0;36m0\u001b[0m\u001b[0;34m]\u001b[0m\u001b[0;34m.\u001b[0m\u001b[0mnode_x\u001b[0m\u001b[0;34m,\u001b[0m \u001b[0mfdir\u001b[0m\u001b[0;34m.\u001b[0m\u001b[0mgrid\u001b[0m\u001b[0;34m[\u001b[0m\u001b[0;36m0\u001b[0m\u001b[0;34m]\u001b[0m\u001b[0;34m.\u001b[0m\u001b[0mnode_y\u001b[0m\u001b[0;34m\u001b[0m\u001b[0;34m\u001b[0m\u001b[0m\n",
      "\u001b[0;31mAttributeError\u001b[0m: 'FlowDirectorSteepest' object has no attribute 'grid_size'"
     ]
    }
   ],
   "source": [
    "grid = fdir.var_grid(\"topographic__elevation\")\n",
    "n_vals = fdir.grid_size(grid)\n",
    "x, y = fdir.grid[0].node_x, fdir.grid[0].node_y"
   ]
  },
  {
   "cell_type": "code",
   "execution_count": null,
   "metadata": {},
   "outputs": [],
   "source": [
    "z = np.zeros(n_vals)\n",
    "z[x > 500] = x[x < 490] / 10.0"
   ]
  },
  {
   "cell_type": "markdown",
   "metadata": {},
   "source": [
    "To make sure we've set things up correctly."
   ]
  },
  {
   "cell_type": "code",
   "execution_count": null,
   "metadata": {},
   "outputs": [],
   "source": [
    "fdir.set_value(\"topographic__elevation\", z)\n",
    "fdir.quick_plot(\"topographic__elevation\")"
   ]
  },
  {
   "cell_type": "markdown",
   "metadata": {},
   "source": [
    "Now time step through the model, plotting things along the way."
   ]
  },
  {
   "cell_type": "code",
   "execution_count": null,
   "metadata": {},
   "outputs": [],
   "source": [
    "for t in range(1000):\n",
    "    fdir.update()\n",
    "\n",
    "    tl_diff.set_value(\"topographic__elevation\", fdir.get_value(\"topographic__elevation\"))\n",
    "    tl_diff.set_value(\"flow__receiver_node\", fdir.get_value(\"flow__receiver_node\"))\n",
    "    tl_diff.set_value(\"topographic__steepest_slope\", fdir.get_value(\"topographic__steepest_slope\"))\n",
    "\n",
    "    tl_diff.update()\n",
    "    \n",
    "    fdir.set_value(\"topographic__elevation\", tl_diff.get_value(\"topographic__elevation\"))\n",
    "\n",
    "    # add some output to let us see we aren't hanging:\n",
    "    if t % 100 == 0:\n",
    "        print(t * dt)\n",
    "        \n",
    "        z = tl_diff.get_value(\"topographic__elevation\").reshape((100, 100))\n",
    "        \n",
    "        # plot east-west cross-section of topography:\n",
    "        x_plot = range(0, 1000, 10)\n",
    "        z_plot = z[1, :]\n",
    "        figure('cross-section')\n",
    "        plot(x_plot, z_plot)"
   ]
  },
  {
   "cell_type": "code",
   "execution_count": null,
   "metadata": {},
   "outputs": [],
   "source": [
    "fdir.quick_plot(\"topographic__elevation\")"
   ]
  },
  {
   "cell_type": "markdown",
   "metadata": {},
   "source": [
    "The material is diffused from the top and along the slope and it accumulates at the bottom, where the topography flattens."
   ]
  },
  {
   "cell_type": "markdown",
   "metadata": {},
   "source": [
    "# Example 3\n",
    "\n",
    "As a comparison, the following code uses linear diffusion on the same slope. Instead of using the **TransportLengthHillslopeDiffuser** component, we'll swap in the **LinearDiffuser** component. Everything else will be pretty much the same."
   ]
  },
  {
   "cell_type": "code",
   "execution_count": null,
   "metadata": {},
   "outputs": [],
   "source": [
    "fdir = pymt.models.FlowDirectorSteepest()\n",
    "diff = pymt.models.LinearDiffuser()"
   ]
  },
  {
   "cell_type": "markdown",
   "metadata": {},
   "source": [
    "Setup and initialize the models."
   ]
  },
  {
   "cell_type": "code",
   "execution_count": null,
   "metadata": {},
   "outputs": [],
   "source": [
    "config_file, config_dir = fdir.setup(**grid_params, **clock_params)\n",
    "fdir.initialize(config_file, config_dir)"
   ]
  },
  {
   "cell_type": "code",
   "execution_count": null,
   "metadata": {},
   "outputs": [],
   "source": [
    "config_file, config_dir = diff.setup(\n",
    "    **grid_params,\n",
    "    **clock_params,\n",
    "    linear_diffusivity=0.1,\n",
    ")\n",
    "diff.initialize(config_file, config_dir)"
   ]
  },
  {
   "cell_type": "markdown",
   "metadata": {},
   "source": [
    "Set boundary conditions."
   ]
  },
  {
   "cell_type": "code",
   "execution_count": null,
   "metadata": {},
   "outputs": [],
   "source": [
    "status = fdir.get_value(\"boundary_condition_flag\").reshape((100, 100))\n",
    "status[:, (0, -1)] = 1 # E and W boundaries are open \n",
    "status[(0, -1), :] = 4 # N and S boundaries are closed"
   ]
  },
  {
   "cell_type": "code",
   "execution_count": null,
   "metadata": {},
   "outputs": [],
   "source": [
    "fdir.set_value(\"boundary_condition_flag\", status)\n",
    "diff.set_value(\"boundary_condition_flag\", status)"
   ]
  },
  {
   "cell_type": "markdown",
   "metadata": {},
   "source": [
    "Set the initial topography."
   ]
  },
  {
   "cell_type": "code",
   "execution_count": null,
   "metadata": {},
   "outputs": [],
   "source": [
    "grid = fdir.var_grid(\"topographic__elevation\")\n",
    "n_vals = fdir.grid_node_count(grid)\n",
    "x, y = fdir.grid[0].node_x, fdir.grid[0].node_y"
   ]
  },
  {
   "cell_type": "code",
   "execution_count": null,
   "metadata": {},
   "outputs": [],
   "source": [
    "z = np.zeros(n_vals)\n",
    "z[x > 500] = x[x < 490] / 10.0"
   ]
  },
  {
   "cell_type": "code",
   "execution_count": null,
   "metadata": {},
   "outputs": [],
   "source": [
    "fdir.set_value(\"topographic__elevation\", z)\n",
    "fdir.quick_plot(\"topographic__elevation\")"
   ]
  },
  {
   "cell_type": "markdown",
   "metadata": {},
   "source": [
    "Run the model!"
   ]
  },
  {
   "cell_type": "code",
   "execution_count": null,
   "metadata": {},
   "outputs": [],
   "source": [
    "for t in range(1000):\n",
    "    fdir.update()\n",
    "\n",
    "    diff.set_value(\"topographic__elevation\", fdir.get_value(\"topographic__elevation\"))\n",
    "\n",
    "    diff.update()\n",
    "    \n",
    "    fdir.set_value(\"topographic__elevation\", diff.get_value(\"topographic__elevation\"))\n",
    "\n",
    "    # add some output to let us see we aren't hanging:\n",
    "    if t % 100 == 0:\n",
    "        print(t * dt)\n",
    "        \n",
    "        z = diff.get_value(\"topographic__elevation\").reshape((100, 100))\n",
    "        \n",
    "        # plot east-west cross-section of topography:\n",
    "        x_plot = range(0, 1000, 10)\n",
    "        z_plot = z[1, :]\n",
    "        figure('cross-section')\n",
    "        plot(x_plot, z_plot)"
   ]
  },
  {
   "cell_type": "code",
   "execution_count": null,
   "metadata": {},
   "outputs": [],
   "source": [
    "fdir.quick_plot(\"topographic__elevation\")"
   ]
  },
  {
   "cell_type": "code",
   "execution_count": null,
   "metadata": {},
   "outputs": [],
   "source": []
  }
 ],
 "metadata": {
  "kernelspec": {
   "display_name": "Python 3",
   "language": "python",
   "name": "python3"
  },
  "language_info": {
   "codemirror_mode": {
    "name": "ipython",
    "version": 3
   },
   "file_extension": ".py",
   "mimetype": "text/x-python",
   "name": "python",
   "nbconvert_exporter": "python",
   "pygments_lexer": "ipython3",
   "version": "3.7.3"
  }
 },
 "nbformat": 4,
 "nbformat_minor": 2
}
