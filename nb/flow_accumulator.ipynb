{
 "cells": [
  {
   "cell_type": "markdown",
   "metadata": {},
   "source": [
    "# Introduction to the FlowAccumulator\n",
    "\n",
    "Landlab directs flow and accumulates it using two types of components:\n",
    "\n",
    "**FlowDirectors** use the topography to determine how flow moves between adjacent nodes. For every node in the grid it determines the nodes to receive flow and the proportion of flow to send from one node to its receiver. \n",
    "\n",
    "The **FlowAccumulator** uses the direction and proportion of flow moving between each node and (optionally) water runoff to calculate drainage area and discharge.  \n",
    "\n",
    "In this tutorial we will go over how to initialize and run the **FlowAccumulator**. For tutorials on how to initialize and run a **FlowDirector** and a brief comparison between the different flow direction algorithms or for more detailed examples that contrast the differences between each flow direction algorithm, refer to the other tutorials in this section. \n",
    "\n",
    "First, we import the necessary python modules and make a small plotting routine. "
   ]
  },
  {
   "cell_type": "code",
   "execution_count": 1,
   "metadata": {},
   "outputs": [
    {
     "name": "stderr",
     "output_type": "stream",
     "text": [
      "\u001b[33;01m➡ models: Avulsion, Plume, Sedflux3D, Subside, FrostNumber, Ku, ExponentialWeatherer, Flexure, FlowAccumulator, FlowDirectorD8, FlowDirectorDINF, FlowDirectorSteepest, FlowRouter, LinearDiffuser, OverlandFlow, SoilMoisture, StreamPowerEroder, TransportLengthHillslopeDiffuser, Vegetation, Hydrotrend, Child, Cem, Waves\u001b[39;49;00m\n"
     ]
    }
   ],
   "source": [
    "import numpy as np\n",
    "import pymt.models"
   ]
  },
  {
   "cell_type": "markdown",
   "metadata": {},
   "source": [
    "## Initalizing and running the FlowAccumulator\n",
    "\n",
    "To instantiate the **FlowAccumulator**, you must pass it the minimum of a model grid that has a field called ```'topographic__elevation'```. \n",
    "\n",
    "Alternatively, you can pass it the name of another field name at node, or an array with length number of nodes. This is the surface over which flow is first directed and then accumulated. \n",
    "\n",
    "**FlowAccumulator** will create and use a **FlowDirector** to calculate flow directions. The default **FlowDirector** is **FlowDirectorSteepest** which is the same as D4 in the special case of a raster grid. There are a few different ways to specify which **FlowDirector** you want **FlowAccumulator** to use. The next section will go over these options. \n",
    "\n",
    "**FlowAccumulator** can take a constant or spatially variable input called ```runoff_rate``` which it uses to calculate discharge. Alternatively, if there is an at_node field called ```water__unit_flux_in``` and no value is specified as the ```runoff_rate``` **FlowAccumulator** will use the values stored in ```water__unit_flux_in```.\n",
    "\n",
    "In addition to directing flow and accumulating it in one step, **FlowAccumulator** can also deal with depression finding internally. This can be done by passing a **DepressionFinder** to the keyword argument ```depression_finder```. The default behavior is to not deal with depressions internally. \n",
    "\n",
    "Finally, if the **FlowDirector** you are using takes any keyword arguments, those can be passed to the **FlowAccumulator**. For example, **FlowDirectorMFD** has to option to use diagonals in addition to links and to proportion flow based on either the slope or the the square root of slope. "
   ]
  },
  {
   "cell_type": "code",
   "execution_count": 2,
   "metadata": {},
   "outputs": [],
   "source": [
    "flow_accumulator = pymt.models.FlowAccumulator()"
   ]
  },
  {
   "cell_type": "code",
   "execution_count": 3,
   "metadata": {},
   "outputs": [],
   "source": [
    "grid = {\n",
    "    \"grid_rows\": 10,\n",
    "    \"grid_columns\": 10,\n",
    "    \"grid_row_spacing\": 1.0,\n",
    "    \"grid_column_spacing\": 1.0,\n",
    "}"
   ]
  },
  {
   "cell_type": "code",
   "execution_count": 4,
   "metadata": {},
   "outputs": [],
   "source": [
    "config_file, config_dir = flow_accumulator.setup(**grid)"
   ]
  },
  {
   "cell_type": "code",
   "execution_count": 5,
   "metadata": {},
   "outputs": [],
   "source": [
    "flow_accumulator.initialize(config_file, config_dir)"
   ]
  },
  {
   "cell_type": "markdown",
   "metadata": {},
   "source": [
    "## Topographic grids\n",
    "\n",
    "For this tutorial we will consider one topographic surface. "
   ]
  },
  {
   "cell_type": "code",
   "execution_count": 6,
   "metadata": {},
   "outputs": [
    {
     "data": {
      "text/plain": [
       "<DataValues>\n",
       "float64 topographic__elevation(node)\n",
       "Attributes:\n",
       "    units: m\n",
       "    grid: 0\n",
       "    intent: in\n",
       "    location: node"
      ]
     },
     "execution_count": 6,
     "metadata": {},
     "output_type": "execute_result"
    }
   ],
   "source": [
    "flow_accumulator.var[\"topographic__elevation\"]"
   ]
  },
  {
   "cell_type": "code",
   "execution_count": 7,
   "metadata": {},
   "outputs": [],
   "source": [
    "z = 3 * flow_accumulator.grid[0].node_x ** 2 + flow_accumulator.grid[0].node_y ** 2"
   ]
  },
  {
   "cell_type": "code",
   "execution_count": 8,
   "metadata": {},
   "outputs": [],
   "source": [
    "flow_accumulator.set_value(\"topographic__elevation\", z)"
   ]
  },
  {
   "cell_type": "code",
   "execution_count": 9,
   "metadata": {},
   "outputs": [
    {
     "data": {
      "image/png": "[encoded data removed]",
      "text/plain": [
       "<Figure size 432x288 with 2 Axes>"
      ]
     },
     "metadata": {
      "needs_background": "light"
     },
     "output_type": "display_data"
    }
   ],
   "source": [
    "flow_accumulator.quick_plot(\"topographic__elevation\")"
   ]
  },
  {
   "cell_type": "markdown",
   "metadata": {},
   "source": [
    "## Initalizing and running the FlowAccumulator\n",
    "\n",
    "To instantiate the **FlowAccumulator**, you must pass it the minimum of a model grid that has a field called ```'topographic__elevation'```. \n",
    "\n",
    "Alternatively, you can pass it the name of another field name at node, or an array with length number of nodes. This is the surface over which flow is first directed and then accumulated. \n",
    "\n",
    "**FlowAccumulator** will create and use a **FlowDirector** to calculate flow directions. The default **FlowDirector** is **FlowDirectorSteepest** which is the same as D4 in the special case of a raster grid. There are a few different ways to specify which **FlowDirector** you want **FlowAccumulator** to use. The next section will go over these options. \n",
    "\n",
    "**FlowAccumulator** can take a constant or spatially variable input called ```runoff_rate``` which it uses to calculate discharge. Alternatively, if there is an at_node field called ```water__unit_flux_in``` and no value is specified as the ```runoff_rate``` **FlowAccumulator** will use the values stored in ```water__unit_flux_in```.\n",
    "\n",
    "In addition to directing flow and accumulating it in one step, **FlowAccumulator** can also deal with depression finding internally. This can be done by passing a **DepressionFinder** to the keyword argument ```depression_finder```. The default behavior is to not deal with depressions internally. \n",
    "\n",
    "Finally, if the **FlowDirector** you are using takes any keyword arguments, those can be passed to the **FlowAccumulator**. For example, **FlowDirectorMFD** has to option to use diagonals in addition to links and to proportion flow based on either the slope or the the square root of slope. "
   ]
  },
  {
   "cell_type": "code",
   "execution_count": 10,
   "metadata": {},
   "outputs": [],
   "source": [
    "flow_accumulator.update()"
   ]
  },
  {
   "cell_type": "code",
   "execution_count": 11,
   "metadata": {},
   "outputs": [
    {
     "data": {
      "image/png": "[encoded data removed]",
      "text/plain": [
       "<Figure size 432x288 with 2 Axes>"
      ]
     },
     "metadata": {
      "needs_background": "light"
     },
     "output_type": "display_data"
    }
   ],
   "source": [
    "flow_accumulator.quick_plot(\"drainage_area\")"
   ]
  },
  {
   "cell_type": "code",
   "execution_count": 12,
   "metadata": {},
   "outputs": [
    {
     "data": {
      "image/png": "[encoded data removed]",
      "text/plain": [
       "<Figure size 432x288 with 2 Axes>"
      ]
     },
     "metadata": {
      "needs_background": "light"
     },
     "output_type": "display_data"
    }
   ],
   "source": [
    "flow_accumulator.quick_plot(\"surface_water__discharge\")"
   ]
  },
  {
   "cell_type": "markdown",
   "metadata": {},
   "source": [
    "We can rain on the surface, store that rain in the field ```water__unit_flux_in```, and then re-run the **FlowAccumulator**. As an example, we will 'rain' a uniform random number between 0 and 1 on every node. \n",
    "\n",
    "Since we already ran the **FlowAccumulator**, under the hood our grid already has a field called ```water__unit_flux_in``` and we need to set the ```noclober``` keyword to ```False```."
   ]
  },
  {
   "cell_type": "code",
   "execution_count": 13,
   "metadata": {},
   "outputs": [],
   "source": [
    "rain = 1.0 + 5.0 * np.random.rand(flow_accumulator.grid[0].dims[\"node\"])"
   ]
  },
  {
   "cell_type": "code",
   "execution_count": 14,
   "metadata": {},
   "outputs": [],
   "source": [
    "flow_accumulator.set_value(\"water__unit_flux_in\", rain)"
   ]
  },
  {
   "cell_type": "markdown",
   "metadata": {},
   "source": [
    "Next, we re-run the **FlowAccumulator** and plot the discharge. "
   ]
  },
  {
   "cell_type": "code",
   "execution_count": 15,
   "metadata": {},
   "outputs": [],
   "source": [
    "flow_accumulator.update()"
   ]
  },
  {
   "cell_type": "markdown",
   "metadata": {},
   "source": [
    "The basic pattern of drainage is the same but the values for the surface water discharge are different than for drainage area. "
   ]
  },
  {
   "cell_type": "code",
   "execution_count": 16,
   "metadata": {},
   "outputs": [
    {
     "data": {
      "image/png": "[encoded data removed]",
      "text/plain": [
       "<Figure size 432x288 with 2 Axes>"
      ]
     },
     "metadata": {
      "needs_background": "light"
     },
     "output_type": "display_data"
    }
   ],
   "source": [
    "flow_accumulator.quick_plot(\"drainage_area\")"
   ]
  },
  {
   "cell_type": "code",
   "execution_count": 17,
   "metadata": {},
   "outputs": [
    {
     "data": {
      "image/png": "[encoded data removed]",
      "text/plain": [
       "<Figure size 432x288 with 2 Axes>"
      ]
     },
     "metadata": {
      "needs_background": "light"
     },
     "output_type": "display_data"
    }
   ],
   "source": [
    "flow_accumulator.quick_plot(\"surface_water__discharge\")"
   ]
  },
  {
   "cell_type": "code",
   "execution_count": 18,
   "metadata": {},
   "outputs": [],
   "source": [
    "flow_accumulator = pymt.models.FlowAccumulator()\n",
    "config_file, config_dir = flow_accumulator.setup(**grid, flow_director=\"D8\")"
   ]
  },
  {
   "cell_type": "code",
   "execution_count": 19,
   "metadata": {},
   "outputs": [],
   "source": [
    "flow_accumulator.initialize(config_file, config_dir)\n",
    "flow_accumulator.set_value(\"topographic__elevation\", z)"
   ]
  },
  {
   "cell_type": "code",
   "execution_count": 20,
   "metadata": {},
   "outputs": [],
   "source": [
    "flow_accumulator.update()"
   ]
  },
  {
   "cell_type": "code",
   "execution_count": 21,
   "metadata": {},
   "outputs": [
    {
     "data": {
      "text/plain": [
       "array([[  0.,   0.,   0.,   0.,   0.,   0.,   0.,   0.,   0.,   0.],\n",
       "       [ 34.,   8.,   7.,   6.,   5.,   4.,   3.,   2.,   1.,   0.],\n",
       "       [ 15.,  26.,   7.,   6.,   5.,   4.,   3.,   2.,   1.,   0.],\n",
       "       [ 15.,  15.,  18.,   6.,   5.,   4.,   3.,   2.,   1.,   0.],\n",
       "       [  0.,  15.,  14.,  11.,   5.,   4.,   3.,   2.,   1.,   0.],\n",
       "       [  0.,  10.,   4.,  13.,   5.,   4.,   3.,   2.,   1.,   0.],\n",
       "       [  0.,   6.,   3.,   3.,  12.,   4.,   3.,   2.,   1.,   0.],\n",
       "       [  0.,   3.,   2.,   2.,   2.,   7.,   3.,   2.,   1.,   0.],\n",
       "       [  0.,   1.,   1.,   1.,   1.,   1.,   3.,   2.,   1.,   0.],\n",
       "       [  0.,   0.,   0.,   0.,   0.,   0.,   0.,   0.,   0.,   0.]])"
      ]
     },
     "execution_count": 21,
     "metadata": {},
     "output_type": "execute_result"
    }
   ],
   "source": [
    "flow_accumulator.get_value(\"drainage_area\").reshape((10, 10))"
   ]
  },
  {
   "cell_type": "code",
   "execution_count": 22,
   "metadata": {},
   "outputs": [
    {
     "data": {
      "image/png": "[encoded data removed]",
      "text/plain": [
       "<Figure size 432x288 with 2 Axes>"
      ]
     },
     "metadata": {
      "needs_background": "light"
     },
     "output_type": "display_data"
    }
   ],
   "source": [
    "flow_accumulator.quick_plot(\"drainage_area\")"
   ]
  },
  {
   "cell_type": "code",
   "execution_count": 9,
   "metadata": {},
   "outputs": [
    {
     "name": "stdout",
     "output_type": "stream",
     "text": [
      "FlowAccumulator:\r\n",
      "  flow_director: D8\r\n",
      "  surface: \"topographic__elevation\"\r\n",
      "\r\n",
      "clock:\r\n",
      "  start: 0.0\r\n",
      "  stop: 3600.0\r\n",
      "  step: 10.0\r\n",
      "  units: \"d\"\r\n",
      "grid:\r\n",
      "  RasterModelGrid:\r\n",
      "    args: [10, 10]\r\n",
      "    xy_spacing: [1.0, 1.0]\r\n",
      "    fields:\r\n",
      "      node:\r\n",
      "        topographic__elevation:\r\n",
      "          - constant:\r\n",
      "              value: 0.0"
     ]
    }
   ],
   "source": [
    "cat /var/folders/m0/b38ft6356hv9dc3j4dml5p8m0000gn/T/tmp747qcmg0/flow_accumulator.yaml"
   ]
  },
  {
   "cell_type": "code",
   "execution_count": null,
   "metadata": {},
   "outputs": [],
   "source": []
  }
 ],
 "metadata": {
  "kernelspec": {
   "display_name": "Python 3",
   "language": "python",
   "name": "python3"
  },
  "language_info": {
   "codemirror_mode": {
    "name": "ipython",
    "version": 3
   },
   "file_extension": ".py",
   "mimetype": "text/x-python",
   "name": "python",
   "nbconvert_exporter": "python",
   "pygments_lexer": "ipython3",
   "version": "3.7.3"
  }
 },
 "nbformat": 4,
 "nbformat_minor": 2
}
